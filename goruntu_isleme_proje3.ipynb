{
 "cells": [
  {
   "cell_type": "code",
   "execution_count": null,
   "id": "902f7b04",
   "metadata": {
    "scrolled": true
   },
   "outputs": [],
   "source": [
    "import numpy as np\n",
    "import cv2 as cv\n",
    "from matplotlib import pyplot as plt\n",
    "#GÖRÜNTÜ OKU\n",
    "img = cv.imread('RGB_119.jpg')\n",
    "\n",
    "#Canny kenar çıkarımı algoritması\n",
    "canny = cv.Canny(img,100,200)\n",
    "\n",
    "#Görüntüyü grileştirme\n",
    "img = cv2.cvtColor(img, cv2.COLOR_BGR2GRAY)\n",
    "\n",
    "\n",
    "#Gradyan ve iç dış kenar çıkarımı için ayrı ayrı 1'ler filtresi tanımlama\n",
    "structure_element2 = np.ones((7,7))\n",
    "kernel = np.ones((2,2),np.uint8)\n",
    "\n",
    "#Dış kenarlar baz alınarak kenar çıkarımı işlemi, uygulama sayısı 1, işlev yayma\n",
    "dilate = cv2.dilate(img,structure_element2,iterations = 1)\n",
    "ebe = np.subtract(dilate, img)\n",
    "\n",
    "#İç kenarlar baz alınarak kenar çıkarımı işlemi, uygulama sayısı 1, işlev erozyon\n",
    "erode = cv2.erode(img,structure_element2,iterations = 1)\n",
    "ibe = np.subtract(img,erode)\n",
    "\n",
    "#Morfolojik gradyan kullanarak kenarların çıkarımı\n",
    "retVal,mask = cv2.threshold(img,155,255,cv2.THRESH_BINARY_INV)\n",
    "gradient = cv2.morphologyEx(mask, cv2.MORPH_GRADIENT, kernel)\n",
    "\n",
    "\n",
    "\n",
    "#GÖRÜNTÜ BASIMI\n",
    "cv2.imshow(\"İç kenarlar\", ibe)\n",
    "cv2.imshow(\"Dış kenarlar\", ebe)\n",
    "cv2.imshow(\"Canny\" , canny)\n",
    "cv2.imshow(\"Gradyan\", gradient)\n",
    "cv2.waitKey(0)\n",
    "\n"
   ]
  },
  {
   "cell_type": "code",
   "execution_count": null,
   "id": "888035a3",
   "metadata": {},
   "outputs": [],
   "source": [
    "\n",
    "\n",
    "\n"
   ]
  },
  {
   "cell_type": "code",
   "execution_count": null,
   "id": "ed8b700e",
   "metadata": {},
   "outputs": [],
   "source": []
  }
 ],
 "metadata": {
  "kernelspec": {
   "display_name": "Python 3 (ipykernel)",
   "language": "python",
   "name": "python3"
  },
  "language_info": {
   "codemirror_mode": {
    "name": "ipython",
    "version": 3
   },
   "file_extension": ".py",
   "mimetype": "text/x-python",
   "name": "python",
   "nbconvert_exporter": "python",
   "pygments_lexer": "ipython3",
   "version": "3.9.13"
  },
  "vscode": {
   "interpreter": {
    "hash": "59d3319fd0ecf41822847c78095c6397e1b6dc237226ee261d10d0543ff3d43d"
   }
  }
 },
 "nbformat": 4,
 "nbformat_minor": 5
}
